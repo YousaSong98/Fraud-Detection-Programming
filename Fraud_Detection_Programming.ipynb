{
 "cells": [
  {
   "cell_type": "code",
   "execution_count": 1,
   "id": "423d30a8",
   "metadata": {},
   "outputs": [],
   "source": [
    "import numpy as np\n",
    "import pandas as pd\n",
    "import datetime\n",
    "from datetime import datetime\n",
    "from datetime import timedelta"
   ]
  },
  {
   "cell_type": "code",
   "execution_count": 2,
   "id": "141666bf",
   "metadata": {},
   "outputs": [],
   "source": [
    "sample_input = pd.DataFrame(\n",
    "    {'DATE': ['2015-01-01', '2015-02-01', '2015-02-03', '2015-02-10', '2015-02-14', '2015-03-15', '2015-05-01', '2015-10-01'],\n",
    "    'CUSTOMER_ACCOUNT_ID': ['joe@signifyd.com', 'fraudster@fraud.com', 'fraudster@fraud.com', 'joe@signifyd.com', 'fraudster@fraud.com', 'joe@signifyd.com', 'joe@signifyd.com', 'joe@signifyd.com'],\n",
    "    'EVENT_TYPE': ['PURCHASE', 'FRAUD_REPORT', 'FRAUD_REPORT', 'PURCHASE', 'PURCHASE', 'PURCHASE', 'PURCHASE', 'PURCHASE']}\n",
    ")"
   ]
  },
  {
   "cell_type": "code",
   "execution_count": 3,
   "id": "37d4a25d",
   "metadata": {},
   "outputs": [
    {
     "data": {
      "text/html": [
       "<div>\n",
       "<style scoped>\n",
       "    .dataframe tbody tr th:only-of-type {\n",
       "        vertical-align: middle;\n",
       "    }\n",
       "\n",
       "    .dataframe tbody tr th {\n",
       "        vertical-align: top;\n",
       "    }\n",
       "\n",
       "    .dataframe thead th {\n",
       "        text-align: right;\n",
       "    }\n",
       "</style>\n",
       "<table border=\"1\" class=\"dataframe\">\n",
       "  <thead>\n",
       "    <tr style=\"text-align: right;\">\n",
       "      <th></th>\n",
       "      <th>DATE</th>\n",
       "      <th>CUSTOMER_ACCOUNT_ID</th>\n",
       "      <th>EVENT_TYPE</th>\n",
       "    </tr>\n",
       "  </thead>\n",
       "  <tbody>\n",
       "    <tr>\n",
       "      <th>0</th>\n",
       "      <td>2015-01-01</td>\n",
       "      <td>joe@signifyd.com</td>\n",
       "      <td>PURCHASE</td>\n",
       "    </tr>\n",
       "    <tr>\n",
       "      <th>1</th>\n",
       "      <td>2015-02-01</td>\n",
       "      <td>fraudster@fraud.com</td>\n",
       "      <td>FRAUD_REPORT</td>\n",
       "    </tr>\n",
       "    <tr>\n",
       "      <th>2</th>\n",
       "      <td>2015-02-03</td>\n",
       "      <td>fraudster@fraud.com</td>\n",
       "      <td>FRAUD_REPORT</td>\n",
       "    </tr>\n",
       "    <tr>\n",
       "      <th>3</th>\n",
       "      <td>2015-02-10</td>\n",
       "      <td>joe@signifyd.com</td>\n",
       "      <td>PURCHASE</td>\n",
       "    </tr>\n",
       "    <tr>\n",
       "      <th>4</th>\n",
       "      <td>2015-02-14</td>\n",
       "      <td>fraudster@fraud.com</td>\n",
       "      <td>PURCHASE</td>\n",
       "    </tr>\n",
       "    <tr>\n",
       "      <th>5</th>\n",
       "      <td>2015-03-15</td>\n",
       "      <td>joe@signifyd.com</td>\n",
       "      <td>PURCHASE</td>\n",
       "    </tr>\n",
       "    <tr>\n",
       "      <th>6</th>\n",
       "      <td>2015-05-01</td>\n",
       "      <td>joe@signifyd.com</td>\n",
       "      <td>PURCHASE</td>\n",
       "    </tr>\n",
       "    <tr>\n",
       "      <th>7</th>\n",
       "      <td>2015-10-01</td>\n",
       "      <td>joe@signifyd.com</td>\n",
       "      <td>PURCHASE</td>\n",
       "    </tr>\n",
       "  </tbody>\n",
       "</table>\n",
       "</div>"
      ],
      "text/plain": [
       "         DATE  CUSTOMER_ACCOUNT_ID    EVENT_TYPE\n",
       "0  2015-01-01     joe@signifyd.com      PURCHASE\n",
       "1  2015-02-01  fraudster@fraud.com  FRAUD_REPORT\n",
       "2  2015-02-03  fraudster@fraud.com  FRAUD_REPORT\n",
       "3  2015-02-10     joe@signifyd.com      PURCHASE\n",
       "4  2015-02-14  fraudster@fraud.com      PURCHASE\n",
       "5  2015-03-15     joe@signifyd.com      PURCHASE\n",
       "6  2015-05-01     joe@signifyd.com      PURCHASE\n",
       "7  2015-10-01     joe@signifyd.com      PURCHASE"
      ]
     },
     "execution_count": 3,
     "metadata": {},
     "output_type": "execute_result"
    }
   ],
   "source": [
    "sample_input"
   ]
  },
  {
   "cell_type": "code",
   "execution_count": 4,
   "id": "7bc67f61",
   "metadata": {},
   "outputs": [],
   "source": [
    "# assume the input is a pandas data frame after loading raw data records (e.g. csv/excel)\n",
    "def get_dict(input_records):\n",
    "    dict_records = dict()\n",
    "    for index, row in input_records.iterrows():\n",
    "        if not dict_records.get(row['CUSTOMER_ACCOUNT_ID']):\n",
    "            dict_records[row['CUSTOMER_ACCOUNT_ID']] = {datetime.strptime(row['DATE'],'%Y-%m-%d'): row['EVENT_TYPE']}\n",
    "        else:\n",
    "            dict_records[row['CUSTOMER_ACCOUNT_ID']][datetime.strptime(row['DATE'],'%Y-%m-%d')] = row['EVENT_TYPE']\n",
    "    return dict_records"
   ]
  },
  {
   "cell_type": "code",
   "execution_count": 5,
   "id": "4b67247b",
   "metadata": {},
   "outputs": [
    {
     "data": {
      "text/plain": [
       "{'joe@signifyd.com': {datetime.datetime(2015, 1, 1, 0, 0): 'PURCHASE',\n",
       "  datetime.datetime(2015, 2, 10, 0, 0): 'PURCHASE',\n",
       "  datetime.datetime(2015, 3, 15, 0, 0): 'PURCHASE',\n",
       "  datetime.datetime(2015, 5, 1, 0, 0): 'PURCHASE',\n",
       "  datetime.datetime(2015, 10, 1, 0, 0): 'PURCHASE'},\n",
       " 'fraudster@fraud.com': {datetime.datetime(2015, 2, 1, 0, 0): 'FRAUD_REPORT',\n",
       "  datetime.datetime(2015, 2, 3, 0, 0): 'FRAUD_REPORT',\n",
       "  datetime.datetime(2015, 2, 14, 0, 0): 'PURCHASE'}}"
      ]
     },
     "execution_count": 5,
     "metadata": {},
     "output_type": "execute_result"
    }
   ],
   "source": [
    "dict_records = get_dict(sample_input)\n",
    "dict_records"
   ]
  },
  {
   "cell_type": "code",
   "execution_count": 6,
   "id": "3151709a",
   "metadata": {},
   "outputs": [],
   "source": [
    "def status_report(dict_records):\n",
    "    for id in dict_records:\n",
    "        customer_hist = list(dict_records[id].keys())\n",
    "        fraud_no = 0\n",
    "        unconfirmed_no = 0\n",
    "        date_compare = []\n",
    "        for index, event_date in enumerate(customer_hist):\n",
    "            purchase_no = 0\n",
    "            confirmed_no = 0\n",
    "            if index == 0 and dict_records[id][event_date] == 'PURCHASE':\n",
    "                dict_records[id][event_date] = 'NO_HISTORY'\n",
    "                purchase_no = 1\n",
    "                date_compare.append(event_date)\n",
    "            if dict_records[id][event_date] == 'FRAUD_REPORT':\n",
    "                fraud_no += 1\n",
    "            if index != 0 and dict_records[id][event_date] == 'PURCHASE':\n",
    "                purchase_no += 1\n",
    "                confirmed_no = sum([1 if (event_date - i) > timedelta(90) else 0 for i in date_compare])\n",
    "                if confirmed_no > 0 and purchase_no > 0 and fraud_no == 0:\n",
    "                    dict_records[id][event_date] = f'GOOD_HISTORY:{confirmed_no}'\n",
    "                if confirmed_no == 0 and purchase_no > 0 and fraud_no == 0:\n",
    "                    unconfirmed_no += 1\n",
    "                    dict_records[id][event_date] = f'UNCONFIRMED_HISTORY:{unconfirmed_no}'\n",
    "                if fraud_no > 0:\n",
    "                    dict_records[id][event_date] = f'FRAUD_HISTORY:{fraud_no}'\n",
    "                date_compare.append(event_date)\n",
    "    return dict_records"
   ]
  },
  {
   "cell_type": "code",
   "execution_count": 7,
   "id": "d3376df5",
   "metadata": {},
   "outputs": [
    {
     "data": {
      "text/plain": [
       "{'joe@signifyd.com': {datetime.datetime(2015, 1, 1, 0, 0): 'NO_HISTORY',\n",
       "  datetime.datetime(2015, 2, 10, 0, 0): 'UNCONFIRMED_HISTORY:1',\n",
       "  datetime.datetime(2015, 3, 15, 0, 0): 'UNCONFIRMED_HISTORY:2',\n",
       "  datetime.datetime(2015, 5, 1, 0, 0): 'GOOD_HISTORY:1',\n",
       "  datetime.datetime(2015, 10, 1, 0, 0): 'GOOD_HISTORY:4'},\n",
       " 'fraudster@fraud.com': {datetime.datetime(2015, 2, 1, 0, 0): 'FRAUD_REPORT',\n",
       "  datetime.datetime(2015, 2, 3, 0, 0): 'FRAUD_REPORT',\n",
       "  datetime.datetime(2015, 2, 14, 0, 0): 'FRAUD_HISTORY:2'}}"
      ]
     },
     "execution_count": 7,
     "metadata": {},
     "output_type": "execute_result"
    }
   ],
   "source": [
    "status_report = status_report(dict_records)\n",
    "status_report"
   ]
  },
  {
   "cell_type": "code",
   "execution_count": 8,
   "id": "964f1324",
   "metadata": {},
   "outputs": [],
   "source": [
    "def solution(status_report):\n",
    "    output = pd.DataFrame(columns = ['DATE', 'CUSTOMER_ACCOUNT_ID', 'EVENT_TYPE'])\n",
    "    for entry in status_report:\n",
    "        for items in status_report[entry].items():\n",
    "            output = output.append({'DATE':items[0], 'CUSTOMER_ACCOUNT_ID':entry, 'EVENT_TYPE':items[1]}, ignore_index=True)\n",
    "    output.drop(output[output['EVENT_TYPE'] == 'PURCHASE'].index, inplace = True)\n",
    "    output.drop(output[output['EVENT_TYPE'] == 'FRAUD_REPORT'].index, inplace = True)\n",
    "    output = output.sort_values(by = 'DATE')\n",
    "    output = output.reset_index(drop=True)\n",
    "    return output"
   ]
  },
  {
   "cell_type": "code",
   "execution_count": 9,
   "id": "c97a4dcb",
   "metadata": {},
   "outputs": [
    {
     "data": {
      "text/html": [
       "<div>\n",
       "<style scoped>\n",
       "    .dataframe tbody tr th:only-of-type {\n",
       "        vertical-align: middle;\n",
       "    }\n",
       "\n",
       "    .dataframe tbody tr th {\n",
       "        vertical-align: top;\n",
       "    }\n",
       "\n",
       "    .dataframe thead th {\n",
       "        text-align: right;\n",
       "    }\n",
       "</style>\n",
       "<table border=\"1\" class=\"dataframe\">\n",
       "  <thead>\n",
       "    <tr style=\"text-align: right;\">\n",
       "      <th></th>\n",
       "      <th>DATE</th>\n",
       "      <th>CUSTOMER_ACCOUNT_ID</th>\n",
       "      <th>EVENT_TYPE</th>\n",
       "    </tr>\n",
       "  </thead>\n",
       "  <tbody>\n",
       "    <tr>\n",
       "      <th>0</th>\n",
       "      <td>2015-01-01</td>\n",
       "      <td>joe@signifyd.com</td>\n",
       "      <td>NO_HISTORY</td>\n",
       "    </tr>\n",
       "    <tr>\n",
       "      <th>1</th>\n",
       "      <td>2015-02-10</td>\n",
       "      <td>joe@signifyd.com</td>\n",
       "      <td>UNCONFIRMED_HISTORY:1</td>\n",
       "    </tr>\n",
       "    <tr>\n",
       "      <th>2</th>\n",
       "      <td>2015-02-14</td>\n",
       "      <td>fraudster@fraud.com</td>\n",
       "      <td>FRAUD_HISTORY:2</td>\n",
       "    </tr>\n",
       "    <tr>\n",
       "      <th>3</th>\n",
       "      <td>2015-03-15</td>\n",
       "      <td>joe@signifyd.com</td>\n",
       "      <td>UNCONFIRMED_HISTORY:2</td>\n",
       "    </tr>\n",
       "    <tr>\n",
       "      <th>4</th>\n",
       "      <td>2015-05-01</td>\n",
       "      <td>joe@signifyd.com</td>\n",
       "      <td>GOOD_HISTORY:1</td>\n",
       "    </tr>\n",
       "    <tr>\n",
       "      <th>5</th>\n",
       "      <td>2015-10-01</td>\n",
       "      <td>joe@signifyd.com</td>\n",
       "      <td>GOOD_HISTORY:4</td>\n",
       "    </tr>\n",
       "  </tbody>\n",
       "</table>\n",
       "</div>"
      ],
      "text/plain": [
       "        DATE  CUSTOMER_ACCOUNT_ID             EVENT_TYPE\n",
       "0 2015-01-01     joe@signifyd.com             NO_HISTORY\n",
       "1 2015-02-10     joe@signifyd.com  UNCONFIRMED_HISTORY:1\n",
       "2 2015-02-14  fraudster@fraud.com        FRAUD_HISTORY:2\n",
       "3 2015-03-15     joe@signifyd.com  UNCONFIRMED_HISTORY:2\n",
       "4 2015-05-01     joe@signifyd.com         GOOD_HISTORY:1\n",
       "5 2015-10-01     joe@signifyd.com         GOOD_HISTORY:4"
      ]
     },
     "execution_count": 9,
     "metadata": {},
     "output_type": "execute_result"
    }
   ],
   "source": [
    "sample_output = solution(status_report)\n",
    "sample_output"
   ]
  },
  {
   "cell_type": "code",
   "execution_count": null,
   "id": "24c5c318",
   "metadata": {},
   "outputs": [],
   "source": []
  }
 ],
 "metadata": {
  "kernelspec": {
   "display_name": "Python 3 (ipykernel)",
   "language": "python",
   "name": "python3"
  },
  "language_info": {
   "codemirror_mode": {
    "name": "ipython",
    "version": 3
   },
   "file_extension": ".py",
   "mimetype": "text/x-python",
   "name": "python",
   "nbconvert_exporter": "python",
   "pygments_lexer": "ipython3",
   "version": "3.8.2"
  }
 },
 "nbformat": 4,
 "nbformat_minor": 5
}
